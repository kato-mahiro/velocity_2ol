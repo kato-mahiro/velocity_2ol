{
 "cells": [
  {
   "cell_type": "code",
   "execution_count": 1,
   "metadata": {},
   "outputs": [],
   "source": [
    "import modneat\n",
    "import numpy as np"
   ]
  },
  {
   "cell_type": "code",
   "execution_count": 2,
   "metadata": {},
   "outputs": [],
   "source": [
    "config = modneat.Config(modneat.ModExHebbGenome, \n",
    "                        modneat.DefaultReproduction,\n",
    "                        modneat.DefaultSpeciesSet,\n",
    "                        modneat.DefaultStagnation,\n",
    "                        '../configs/modexhebb_genome.ini'\n",
    "                        )\n",
    "p = modneat.Population(config)"
   ]
  },
  {
   "cell_type": "code",
   "execution_count": 3,
   "metadata": {},
   "outputs": [],
   "source": [
    "pop = p.population\n",
    "genome_config = p.config.genome_config\n",
    "len(pop)\n",
    "for n in range(len(pop)):\n",
    "    g = p.population[n+1]\n",
    "\n",
    "    node1_id = genome_config.get_new_node_key(g.nodes)\n",
    "    node1 = g.create_node(config=genome_config, node_id = node1_id)\n",
    "    g.nodes[node1_id] = node1\n",
    "    g.nodes[node1_id].modulatory = True\n",
    "    g.add_connection(\n",
    "        config=genome_config, input_key=-1, output_key=node1_id,\n",
    "        weight=np.random.normal(genome_config.weight_init_mean, genome_config.weight_init_stdev),\n",
    "        enabled=True)\n",
    "    g.add_connection(\n",
    "        config=genome_config, input_key=node1_id, output_key=0,\n",
    "        weight=np.random.normal(genome_config.weight_init_mean,genome_config.weight_init_stdev),\n",
    "        enabled=True)\n",
    "\n",
    "    \"\"\"\n",
    "    node2_id = genome_config.get_new_node_key(g.nodes)\n",
    "    node2 = g.create_node(config=genome_config, node_id = node2_id)\n",
    "    g.nodes[node2_id] = node2\n",
    "    g.nodes[node2_id].modulatory = True\n",
    "    g.add_connection(\n",
    "        config=genome_config, input_key=-1, output_key=node2_id,\n",
    "        weight=np.random.normal(genome_config.weight_init_mean, genome_config.weight_init_stdev),\n",
    "        enabled=True)\n",
    "    g.add_connection(\n",
    "        config=genome_config, input_key=node2_id, output_key=node1_id,\n",
    "        weight=np.random.normal(genome_config.weight_init_mean, genome_config.weight_init_stdev),\n",
    "        enabled=True)\n",
    "    \"\"\"\n",
    "    \n",
    "    g.fitness = 0.0\n",
    "\n",
    "    # visualize\n",
    "    modneat.visualize.draw_net(config, g, filename='test'+str(n+1))"
   ]
  },
  {
   "cell_type": "code",
   "execution_count": 4,
   "metadata": {},
   "outputs": [
    {
     "name": "stdout",
     "output_type": "stream",
     "text": [
      "Saving checkpoint to ./simple_models_lv2/checkpoints/checkpoint-0\n"
     ]
    },
    {
     "ename": "AttributeError",
     "evalue": "type object 'StatisticsReporter' has no attribute 'most_fit_genomes'",
     "output_type": "error",
     "traceback": [
      "\u001b[0;31m---------------------------------------------------------------------------\u001b[0m",
      "\u001b[0;31mAttributeError\u001b[0m                            Traceback (most recent call last)",
      "Cell \u001b[0;32mIn[4], line 3\u001b[0m\n\u001b[1;32m      1\u001b[0m \u001b[39m#save population\u001b[39;00m\n\u001b[1;32m      2\u001b[0m p\u001b[39m.\u001b[39madd_reporter(modneat\u001b[39m.\u001b[39mCheckpointer(savedir\u001b[39m=\u001b[39m\u001b[39m'\u001b[39m\u001b[39m./simple_models_lv2\u001b[39m\u001b[39m'\u001b[39m, stats \u001b[39m=\u001b[39m modneat\u001b[39m.\u001b[39mStatisticsReporter,generation_interval\u001b[39m=\u001b[39m\u001b[39m0\u001b[39m))\n\u001b[0;32m----> 3\u001b[0m p\u001b[39m.\u001b[39;49mreporters\u001b[39m.\u001b[39;49mreporters[\u001b[39m0\u001b[39;49m]\u001b[39m.\u001b[39;49msave_checkpoint(config\u001b[39m=\u001b[39;49mconfig, population\u001b[39m=\u001b[39;49mp\u001b[39m.\u001b[39;49mpopulation, species_set\u001b[39m=\u001b[39;49mp\u001b[39m.\u001b[39;49mspecies, generation\u001b[39m=\u001b[39;49m\u001b[39m0\u001b[39;49m)\n",
      "File \u001b[0;32m~/.pyenv/versions/3.8.1/envs/modneat/lib/python3.8/site-packages/modneat/checkpoint.py:77\u001b[0m, in \u001b[0;36mCheckpointer.save_checkpoint\u001b[0;34m(self, config, population, species_set, generation)\u001b[0m\n\u001b[1;32m     74\u001b[0m     data \u001b[39m=\u001b[39m (generation, config, population, species_set, random\u001b[39m.\u001b[39mgetstate())\n\u001b[1;32m     75\u001b[0m     pickle\u001b[39m.\u001b[39mdump(data, f, protocol\u001b[39m=\u001b[39mpickle\u001b[39m.\u001b[39mHIGHEST_PROTOCOL)\n\u001b[0;32m---> 77\u001b[0m visualize\u001b[39m.\u001b[39;49mplot_stats(\u001b[39mself\u001b[39;49m\u001b[39m.\u001b[39;49mstats, ylog\u001b[39m=\u001b[39;49m\u001b[39mFalse\u001b[39;49;00m, view\u001b[39m=\u001b[39;49m\u001b[39mFalse\u001b[39;49;00m, filename\u001b[39m=\u001b[39;49mos\u001b[39m.\u001b[39;49mpath\u001b[39m.\u001b[39;49mjoin(\u001b[39mself\u001b[39;49m\u001b[39m.\u001b[39;49msavedir, \u001b[39m'\u001b[39;49m\u001b[39mavg_fitness.png\u001b[39;49m\u001b[39m'\u001b[39;49m))\n\u001b[1;32m     78\u001b[0m visualize\u001b[39m.\u001b[39mplot_species(\u001b[39mself\u001b[39m\u001b[39m.\u001b[39mstats, view\u001b[39m=\u001b[39m\u001b[39mFalse\u001b[39;00m, filename\u001b[39m=\u001b[39mos\u001b[39m.\u001b[39mpath\u001b[39m.\u001b[39mjoin(\u001b[39mself\u001b[39m\u001b[39m.\u001b[39msavedir, \u001b[39m'\u001b[39m\u001b[39mspeciation.png\u001b[39m\u001b[39m'\u001b[39m))\n",
      "File \u001b[0;32m~/.pyenv/versions/3.8.1/envs/modneat/lib/python3.8/site-packages/modneat/visualize.py:39\u001b[0m, in \u001b[0;36mplot_stats\u001b[0;34m(statistics, ylog, view, filename)\u001b[0m\n\u001b[1;32m     36\u001b[0m     warnings\u001b[39m.\u001b[39mwarn(\u001b[39m\"\u001b[39m\u001b[39mThis display is not available due to a missing optional dependency (matplotlib)\u001b[39m\u001b[39m\"\u001b[39m)\n\u001b[1;32m     37\u001b[0m     \u001b[39mreturn\u001b[39;00m\n\u001b[0;32m---> 39\u001b[0m generation \u001b[39m=\u001b[39m \u001b[39mrange\u001b[39m(\u001b[39mlen\u001b[39m(statistics\u001b[39m.\u001b[39;49mmost_fit_genomes))\n\u001b[1;32m     40\u001b[0m best_fitness \u001b[39m=\u001b[39m [c\u001b[39m.\u001b[39mfitness \u001b[39mfor\u001b[39;00m c \u001b[39min\u001b[39;00m statistics\u001b[39m.\u001b[39mmost_fit_genomes]\n\u001b[1;32m     41\u001b[0m avg_fitness \u001b[39m=\u001b[39m np\u001b[39m.\u001b[39marray(statistics\u001b[39m.\u001b[39mget_fitness_mean())\n",
      "\u001b[0;31mAttributeError\u001b[0m: type object 'StatisticsReporter' has no attribute 'most_fit_genomes'"
     ]
    }
   ],
   "source": [
    "#save population\n",
    "p.add_reporter(modneat.Checkpointer(savedir='./simple_models_lv1', stats = modneat.StatisticsReporter,generation_interval=0))\n",
    "p.reporters.reporters[0].save_checkpoint(config=config, population=p.population, species_set=p.species, generation=0)"
   ]
  },
  {
   "cell_type": "code",
   "execution_count": 16,
   "metadata": {},
   "outputs": [
    {
     "data": {
      "text/plain": [
       "<modneat.species.DefaultSpeciesSet at 0x7f8b08632e80>"
      ]
     },
     "execution_count": 16,
     "metadata": {},
     "output_type": "execute_result"
    }
   ],
   "source": [
    "p.species"
   ]
  },
  {
   "cell_type": "code",
   "execution_count": null,
   "metadata": {},
   "outputs": [],
   "source": []
  }
 ],
 "metadata": {
  "kernelspec": {
   "display_name": "modneat",
   "language": "python",
   "name": "python3"
  },
  "language_info": {
   "codemirror_mode": {
    "name": "ipython",
    "version": 3
   },
   "file_extension": ".py",
   "mimetype": "text/x-python",
   "name": "python",
   "nbconvert_exporter": "python",
   "pygments_lexer": "ipython3",
   "version": "3.8.1"
  },
  "orig_nbformat": 4,
  "vscode": {
   "interpreter": {
    "hash": "bcc3768f503fc367f90ef20ec82811010471f283759abe8781fc9fd512c4dc65"
   }
  }
 },
 "nbformat": 4,
 "nbformat_minor": 2
}
